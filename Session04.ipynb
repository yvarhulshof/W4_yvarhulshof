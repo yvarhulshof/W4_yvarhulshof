{
 "cells": [
  {
   "cell_type": "code",
   "execution_count": 6,
   "metadata": {
    "pycharm": {
     "name": "#%%\n"
    }
   },
   "outputs": [],
   "source": [
    "import numpy as np\n",
    "import pylab as plt"
   ]
  },
  {
   "cell_type": "markdown",
   "metadata": {
    "pycharm": {
     "name": "#%% md\n"
    }
   },
   "source": [
    "# Mean Field Implementation of the Cortical Microcircuit\n",
    "### Table of contents\n",
    "* About this tutorial\n",
    "* Mean field approximation\n",
    "    * Fokker-Planck formalism\n",
    "    * Parameters\n",
    "    * Task 1 - Verify the equation for $K_{ij}$\n",
    "    * Define neuron model\n",
    "    * Define external inputs\n",
    "    * Task 2 - Define connectivity (number of connections and synaptic efficacy\n",
    "    * Task 3 - Perform numerical integration\n",
    "    * Evaluate results\n",
    "* References"
   ]
  },
  {
   "cell_type": "markdown",
   "metadata": {
    "pycharm": {
     "name": "#%% md\n"
    }
   },
   "source": [
    "## About this tutorial\n",
    "The objective of this tutorial is to familiarize you with mean field approximations"
   ]
  },
  {
   "cell_type": "markdown",
   "metadata": {
    "pycharm": {
     "name": "#%% md\n"
    }
   },
   "source": [
    "## Mean field approximation\n",
    "Potjans and Diesmann (2014) aggregated connectivity information of local circuits (cortical column) in early visual cortex. They subsequently used this information to simulate a network of $\\sim 80000$ leaky integrate-and-fire (LIF) neurons arranged in four layers each with an excitatory and an inhibitory pool. That is quite a feat and simulation of this circuit has led to important insights. However, simulating such a system takes a very long time unless it is performed on a supercomputer. Let's see if we can simulate a mean field approximation of the column model.\n",
    "\n",
    "<img src=\"Microcircuit.png\"> <img src=\"Raster.png\">"
   ]
  },
  {
   "cell_type": "markdown",
   "metadata": {
    "pycharm": {
     "name": "#%% md\n"
    }
   },
   "source": [
    "## Fokker-Planck formalism\n",
    "Following Schuecker et al. (2016), the stationary firing rate $\\nu_i$ of each population $i$ are given by\n",
    "\n",
    "$\\nu_i = \\Phi[ \\mu_i(t),\\sigma_i(t)] = \\{\\tau_r + \\tau_m \\sqrt{\\pi} \\int_{\\frac{V_{reset}-V_L-\\mu_i(t)}{\\sigma_i(t)} + \\gamma \\sqrt{\\frac{\\bar{\\tau_s}}{\\tau_m}}}^{\\frac{\\theta-V_L-\\mu_i(t)}{\\sigma_i(t)} + \\gamma \\sqrt{\\frac{\\bar{\\tau_s}}{\\tau_m}}} e^{x^2} (1 + erf(x))dx\\}^{-1}$\n",
    "\n",
    "where $\\gamma = \\frac{|\\zeta(\\frac{1}{2})|}{\\sqrt{2}}$, with $\\zeta$ denoting the Rieman zeta function and $erf(x) = \\frac{2}{\\sqrt{\\pi}} \\int_0^x e^{-t^2}dt$ is the error function. The mean drive $\\mu_i(t)$ as well as the diffusive noise $\\sigma_i^2(t)$ depend on recurrent and external inputs:\n",
    "\n",
    "$$\\mu_i(t) = \\tau_m (\\sum_j \\hat{K}_{ij} w_{ij} \\nu_j + K_{ext} w_{ext} \\nu_{ext})$$\n",
    "\n",
    "$$\\sigma_i^2(t) = \\tau_m (\\sum_j \\hat{K}_{ij} w_{ij}^2 \\nu_j + K_{ext} w_{ext}^2 \\nu_{ext})$$\n",
    "\n",
    "where $\\hat{K}_{ij}$ is the average number of synapses arriving at pool $i$ from pool $j$ and $w_{ij}$ is the corresponding synaptic efficacy. Note that both $\\mu$ and $\\sigma$ are in units of mV."
   ]
  },
  {
   "cell_type": "markdown",
   "metadata": {
    "pycharm": {
     "name": "#%% md\n"
    }
   },
   "source": [
    "## Parameters\n",
    "Neuron model parameters are summarized in the table below\n",
    "\n",
    "<img src=\"Parameters.png\">\n",
    "\n",
    "The following table contains information on the local circuit\n",
    "\n",
    "<img src=\"Network.png\">\n",
    "\n",
    "The connectivity is given in terms of probabilities that a neuron in the target population receives a synapse from the source population. The equation for this probability is given by\n",
    "\n",
    "$$P_{ij} = 1 - (1 - \\frac{1}{N^j N^i})^{K_{ij}}$$\n",
    "\n",
    "where $K_{ij}$ is the number of synapses from population $j$ to population $i$ and $N^j$ and $N^i$ are the number of pre- and postsynaptic neurons, respectively. The number of synapses is correspondingly given by\n",
    "\n",
    "$$K_{ij} = \\frac{ln(1-P_{ij})}{ln(1 - \\frac{1}{N^j N^i})}$$"
   ]
  },
  {
   "cell_type": "markdown",
   "metadata": {
    "pycharm": {
     "name": "#%% md\n"
    }
   },
   "source": [
    "## Task 1 - Verify the equation for $K_{ij}$ - (33 points)\n",
    "\n",
    "Solve $P_{ij} = 1 - (1 - \\frac{1}{N^j N^i})^{K_{ij}}$ for $K_{ij}$."
   ]
  },
  {
   "cell_type": "markdown",
   "metadata": {},
   "source": [
    "YOUR ANSWER HERE"
   ]
  },
  {
   "cell_type": "code",
   "execution_count": null,
   "metadata": {
    "pycharm": {
     "name": "#%%\n"
    }
   },
   "outputs": [],
   "source": [
    "# Define neuron model\n",
    "J = 87.8        # synaptic strength (pA)\n",
    "g = -4          # relative inhibitory synaptic strength\n",
    "tau_s = 0.5e-3  # postsynaptic current time constant (s)\n",
    "tau_m = 10e-3   # membrane time constant (s)\n",
    "tau_r = 2e-3    # refractory period\n",
    "C_m = 250       # membrane capacitance (pF)\n",
    "V_reset = -65   # reset potential (mV)\n",
    "V_L = -65       # leak potential (mV)\n",
    "theta = -50     # threshold potential (mV)\n",
    "\n",
    "# Define external inputs\n",
    "K_ext = np.array(   # number of external connections\n",
    "    [1600, 1500, 2100, 1900, 2000, 1900, 2900, 2100])\n",
    "\n",
    "nu_ext = 8  # firing rate per connection (Hz)"
   ]
  },
  {
   "cell_type": "markdown",
   "metadata": {
    "pycharm": {
     "name": "#%% md\n"
    }
   },
   "source": [
    "## Task 2 - Define connectivity (number of connections $K$ and synaptic efficacy $W$ - 34 points)\n",
    "Note that synaptic strength and synaptic efficacy are not the same. You will need to calculate $W$ bassed on other information you have. You also need to calculate the number of connections $K_{ij}$ between pools $i$ and $j$. Importantly, we are interested in the total number of connections received by pool $i$ from pool $j$, not in the number of connections received per neuron in pool $i$!"
   ]
  },
  {
   "cell_type": "code",
   "execution_count": null,
   "metadata": {
    "pycharm": {
     "is_executing": true,
     "name": "#%%\n"
    }
   },
   "outputs": [],
   "source": [
    "N = np.array(    # number of neurons\n",
    "    [20683, 5834, 21915, 5479, 4850, 1065, 14395, 2948])\n",
    "P = np.array(   # connection probability\n",
    "    [[0.101, 0.169, 0.044, 0.082, 0.032, 0.0,    0.008, 0.0],\n",
    "    [0.135,  0.137, 0.032, 0.052, 0.075, 0.0,    0.004, 0.0],\n",
    "    [0.008,  0.006, 0.050, 0.135, 0.007, 0.0003, 0.045, 0.0],\n",
    "    [0.069,  0.003, 0.079, 0.160, 0.003, 0.0,    0.106, 0.0],\n",
    "    [0.100,  0.062, 0.051, 0.006, 0.083, 0.373,  0.020, 0.0],\n",
    "    [0.055,  0.027, 0.026, 0.002, 0.060, 0.316,  0.009, 0.0],\n",
    "    [0.016,  0.007, 0.021, 0.017, 0.057, 0.020,  0.040, 0.225],\n",
    "    [0.036,  0.001, 0.003, 0.001, 0.028, 0.008,  0.066, 0.144]])\n",
    "\n",
    "K_hat = # number of connections\n",
    "\n",
    "W_exc = # ? mV\n",
    "W_inh = # ? mV\n",
    "\n",
    "W_ext = W_exc                        # external input (excitatory)\n",
    "W_rec = np.tile([W_exc,W_inh],[8,4]) # recurrent synaptic connectivity matrix"
   ]
  },
  {
   "cell_type": "markdown",
   "metadata": {
    "pycharm": {
     "name": "#%% md\n"
    }
   },
   "source": [
    "## Task 3 - Perform numererical integration - 33 points\n",
    "We can now finally find the stationary firing rates of all interacting pools by numerically integrating $\\dot{\\nu}_i = -\\nu_i + \\Phi[ \\mu_i(t), \\sigma_i(t) ]$. You can use the forward Euler method with a timestep $\\Delta t = 0.001$ to do so. Make sure to simulate sufficiently many time steps for the system to reach equilibrium ($\\sim 5000$ should do the trick). You do not need to define the activation function $\\Phi$, it comes with the materials for this tutorial (phi.py)."
   ]
  },
  {
   "cell_type": "code",
   "execution_count": null,
   "metadata": {
    "pycharm": {
     "name": "#%%\n"
    }
   },
   "outputs": [],
   "source": [
    "### Write your code here"
   ]
  },
  {
   "cell_type": "markdown",
   "metadata": {
    "pycharm": {
     "name": "#%% md\n"
    }
   },
   "source": [
    "## Evaluate results\n",
    "As a last step, we need to check if the mean firing rates we obtained using the mean field approximation look anything like the results Potjans & Diesmann (2014) obtained when simulating their full model. Assuming that you called the firing rate variable keeping track of the firing rates $\\nu$ and that pools are along its rows and time along its columns, the following code plots bar graphs showing the firing rate in all pools."
   ]
  },
  {
   "cell_type": "code",
   "execution_count": null,
   "metadata": {
    "pycharm": {
     "is_executing": true,
     "name": "#%%\n"
    }
   },
   "outputs": [],
   "source": [
    "plt.figure()\n",
    "plt.barh(width=nu[:,-1],)\n",
    "plt.yticks([0.5, 2.5, 4.5, 6.5], labels=['L23', 'L4', 'L5', 'L6'])\n",
    "plt.show()"
   ]
  },
  {
   "cell_type": "markdown",
   "metadata": {
    "pycharm": {
     "name": "#%% md\n"
    }
   },
   "source": [
    "Compare this to the mean firing rates observed by Potjans & Diesmann (2014)\n",
    "\n",
    "<img src=\"Rates.png\">"
   ]
  },
  {
   "cell_type": "markdown",
   "metadata": {
    "pycharm": {
     "name": "#%% md\n"
    }
   },
   "source": [
    "## References\n",
    "* Potjans TC, Diesmann M. The cell-type specific cortical microcircuit: relating structure and activity in a full-scale spiking network model. Cereb Cortex. 2014 Mar;24(3):785-806. doi: 10.1093/cercor/bhs358. Epub 2012 Dec 2. PMID: 23203991; PMCID: PMC3920768\n",
    "* Schuecker, J., Schmidt, M., van Albada, S. J., Diesmann, M., & Helias, M. (2017). Fundamental Activity Constraints Lead to Specific Interpretations of the Connectome. PLOS Computational Biology, 13(2), e1005179. https://doi.org/10.1371/journal.pcbi.1005179"
   ]
  },
  {
   "cell_type": "code",
   "execution_count": null,
   "metadata": {},
   "outputs": [],
   "source": []
  }
 ],
 "metadata": {
  "kernelspec": {
   "display_name": "Python 3 (ipykernel)",
   "language": "python",
   "name": "python3"
  },
  "language_info": {
   "codemirror_mode": {
    "name": "ipython",
    "version": 3
   },
   "file_extension": ".py",
   "mimetype": "text/x-python",
   "name": "python",
   "nbconvert_exporter": "python",
   "pygments_lexer": "ipython3",
   "version": "3.9.12"
  }
 },
 "nbformat": 4,
 "nbformat_minor": 4
}
