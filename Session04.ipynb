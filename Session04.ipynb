{
 "cells": [
  {
   "cell_type": "code",
   "execution_count": 1,
   "metadata": {
    "pycharm": {
     "name": "#%%\n"
    }
   },
   "outputs": [],
   "source": [
    "import numpy as np\n",
    "import pylab as plt"
   ]
  },
  {
   "cell_type": "markdown",
   "metadata": {
    "pycharm": {
     "name": "#%% md\n"
    }
   },
   "source": [
    "# Mean Field Implementation of the Cortical Microcircuit\n",
    "### Table of contents\n",
    "* About this tutorial\n",
    "* Mean field approximation\n",
    "    * Fokker-Planck formalism\n",
    "    * Parameters\n",
    "    * Task 1 - Verify the equation for $K_{ij}$\n",
    "    * Define neuron model\n",
    "    * Define external inputs\n",
    "    * Task 2 - Define connectivity (number of connections and synaptic efficacy\n",
    "    * Task 3 - Perform numerical integration\n",
    "    * Evaluate results\n",
    "* References"
   ]
  },
  {
   "cell_type": "markdown",
   "metadata": {
    "pycharm": {
     "name": "#%% md\n"
    }
   },
   "source": [
    "## About this tutorial\n",
    "The objective of this tutorial is to familiarize you with mean field approximations"
   ]
  },
  {
   "cell_type": "markdown",
   "metadata": {
    "pycharm": {
     "name": "#%% md\n"
    }
   },
   "source": [
    "## Mean field approximation\n",
    "Potjans and Diesmann (2014) aggregated connectivity information of local circuits (cortical column) in early visual cortex. They subsequently used this information to simulate a network of $\\sim 80000$ leaky integrate-and-fire (LIF) neurons arranged in four layers each with an excitatory and an inhibitory pool. That is quite a feat and simulation of this circuit has led to important insights. However, simulating such a system takes a very long time unless it is performed on a supercomputer. Let's see if we can simulate a mean field approximation of the column model.\n",
    "\n",
    "<img src=\"Microcircuit.png\"> <img src=\"Raster.png\">"
   ]
  },
  {
   "cell_type": "markdown",
   "metadata": {
    "pycharm": {
     "name": "#%% md\n"
    }
   },
   "source": [
    "## Fokker-Planck formalism\n",
    "Following Schuecker et al. (2016), the stationary firing rate $\\nu_i$ of each population $i$ are given by\n",
    "\n",
    "$\\nu_i = \\Phi[ \\mu_i(t),\\sigma_i(t)] = \\{\\tau_r + \\tau_m \\sqrt{\\pi} \\int_{\\frac{V_{reset}-V_L-\\mu_i(t)}{\\sigma_i(t)} + \\gamma \\sqrt{\\frac{\\bar{\\tau_s}}{\\tau_m}}}^{\\frac{\\theta-V_L-\\mu_i(t)}{\\sigma_i(t)} + \\gamma \\sqrt{\\frac{\\bar{\\tau_s}}{\\tau_m}}} e^{x^2} (1 + erf(x))dx\\}^{-1}$\n",
    "\n",
    "where $\\gamma = \\frac{|\\zeta(\\frac{1}{2})|}{\\sqrt{2}}$, with $\\zeta$ denoting the Rieman zeta function and $erf(x) = \\frac{2}{\\sqrt{\\pi}} \\int_0^x e^{-t^2}dt$ is the error function. The mean drive $\\mu_i(t)$ as well as the diffusive noise $\\sigma_i^2(t)$ depend on recurrent and external inputs:\n",
    "\n",
    "$$\\mu_i(t) = \\tau_m (\\sum_j \\hat{K}_{ij} w_{ij} \\nu_j + K_{ext} w_{ext} \\nu_{ext})$$\n",
    "\n",
    "$$\\sigma_i^2(t) = \\tau_m (\\sum_j \\hat{K}_{ij} w_{ij}^2 \\nu_j + K_{ext} w_{ext}^2 \\nu_{ext})$$\n",
    "\n",
    "where $\\hat{K}_{ij}$ is the average number of synapses arriving at pool $i$ from pool $j$ and $w_{ij}$ is the corresponding synaptic efficacy. Note that both $\\mu$ and $\\sigma$ are in units of mV."
   ]
  },
  {
   "cell_type": "markdown",
   "metadata": {
    "pycharm": {
     "name": "#%% md\n"
    }
   },
   "source": [
    "## Parameters\n",
    "Neuron model parameters are summarized in the table below\n",
    "\n",
    "<img src=\"Parameters.png\">\n",
    "\n",
    "The following table contains information on the local circuit\n",
    "\n",
    "<img src=\"Network.png\">\n",
    "\n",
    "The connectivity is given in terms of probabilities that a neuron in the target population receives a synapse from the source population. The equation for this probability is given by\n",
    "\n",
    "$$P_{ij} = 1 - (1 - \\frac{1}{N^j N^i})^{K_{ij}}$$\n",
    "\n",
    "where $K_{ij}$ is the number of synapses from population $j$ to population $i$ and $N^j$ and $N^i$ are the number of pre- and postsynaptic neurons, respectively. The number of synapses is correspondingly given by\n",
    "\n",
    "$$K_{ij} = \\frac{ln(1-P_{ij})}{ln(1 - \\frac{1}{N^j N^i})}$$"
   ]
  },
  {
   "cell_type": "markdown",
   "metadata": {
    "pycharm": {
     "name": "#%% md\n"
    }
   },
   "source": [
    "## Task 1 - Verify the equation for $K_{ij}$ - (33 points)\n",
    "\n",
    "Solve $P_{ij} = 1 - (1 - \\frac{1}{N^j N^i})^{K_{ij}}$ for $K_{ij}$."
   ]
  },
  {
   "cell_type": "markdown",
   "metadata": {},
   "source": [
    "$$P_{ij} - 1 = -(1 - \\frac{1}{N^j N^i})^{K_{ij}}$$\n",
    "$$ln(1 - P_{ij}) = ln((1 - \\frac{1}{N^j N^i})^{K_{ij}})$$\n",
    "$$ln(1 - P_{ij}) = {K_{ij}ln((1 - \\frac{1}{N^j N^i})})$$\n",
    "$${K_{ij} = \\frac{ln(1 - P_{ij})}{ln(1 - \\frac{1}{N^j N^i})})}$$"
   ]
  },
  {
   "cell_type": "code",
   "execution_count": 2,
   "metadata": {
    "pycharm": {
     "name": "#%%\n"
    }
   },
   "outputs": [],
   "source": [
    "# Define neuron model\n",
    "J = 87.8        # synaptic strength (pA)\n",
    "g = -4          # relative inhibitory synaptic strength\n",
    "tau_s = 0.5e-3  # postsynaptic current time constant (s)\n",
    "tau_m = 10e-3   # membrane time constant (s)\n",
    "tau_r = 2e-3    # refractory period\n",
    "C_m = 250       # membrane capacitance (pF)\n",
    "V_reset = -65   # reset potential (mV)\n",
    "V_L = -65       # leak potential (mV)\n",
    "theta = -50     # threshold potential (mV)\n",
    "\n",
    "# Define external inputs\n",
    "K_ext = np.array(   # number of external connections\n",
    "    [1600, 1500, 2100, 1900, 2000, 1900, 2900, 2100])\n",
    "\n",
    "nu_ext = 8  # firing rate per connection (Hz)"
   ]
  },
  {
   "cell_type": "markdown",
   "metadata": {
    "pycharm": {
     "name": "#%% md\n"
    }
   },
   "source": [
    "## Task 2 - Define connectivity (number of connections $K$ and synaptic efficacy $W$ - 34 points)\n",
    "Note that synaptic strength and synaptic efficacy are not the same. You will need to calculate $W$ bassed on other information you have. You also need to calculate the number of connections $K_{ij}$ between pools $i$ and $j$. Importantly, we are interested in the total number of connections received by pool $i$ from pool $j$, not in the number of connections received per neuron in pool $i$!"
   ]
  },
  {
   "cell_type": "code",
   "execution_count": 8,
   "metadata": {},
   "outputs": [
    {
     "data": {
      "text/plain": [
       "(8,)"
      ]
     },
     "execution_count": 8,
     "metadata": {},
     "output_type": "execute_result"
    }
   ],
   "source": [
    "N.shape"
   ]
  },
  {
   "cell_type": "code",
   "execution_count": 9,
   "metadata": {},
   "outputs": [
    {
     "data": {
      "text/plain": [
       "(8, 8)"
      ]
     },
     "execution_count": 9,
     "metadata": {},
     "output_type": "execute_result"
    }
   ],
   "source": [
    "P.shape"
   ]
  },
  {
   "cell_type": "code",
   "execution_count": 14,
   "metadata": {},
   "outputs": [
    {
     "data": {
      "text/plain": [
       "array([[0., 0., 0.],\n",
       "       [0., 0., 0.],\n",
       "       [0., 0., 0.]])"
      ]
     },
     "execution_count": 14,
     "metadata": {},
     "output_type": "execute_result"
    }
   ],
   "source": [
    "a = np.zeros((3,3,))\n",
    "a"
   ]
  },
  {
   "cell_type": "code",
   "execution_count": 17,
   "metadata": {},
   "outputs": [],
   "source": [
    "K = np.zeros((8,8,))\n",
    "for i in range(8):\n",
    "    for j in range(8):\n",
    "        K_ij = np.log(1-P[i,j])/np.log(1-(1/(N[j]*N[i])))\n",
    "        K[i,j] = K_ij"
   ]
  },
  {
   "cell_type": "code",
   "execution_count": 19,
   "metadata": {},
   "outputs": [
    {
     "data": {
      "text/plain": [
       "<AxesSubplot:>"
      ]
     },
     "execution_count": 19,
     "metadata": {},
     "output_type": "execute_result"
    },
    {
     "data": {
      "image/png": "[encoded data removed]",
      "text/plain": [
       "<Figure size 432x288 with 2 Axes>"
      ]
     },
     "metadata": {
      "needs_background": "light"
     },
     "output_type": "display_data"
    }
   ],
   "source": [
    "sns.heatmap(K)"
   ]
  },
  {
   "cell_type": "code",
   "execution_count": 193,
   "metadata": {
    "pycharm": {
     "is_executing": true,
     "name": "#%%\n"
    }
   },
   "outputs": [],
   "source": [
    "N = np.array(    # number of neurons\n",
    "    [20683, 5834, 21915, 5479, 4850, 1065, 14395, 2948])\n",
    "P = np.array(   # connection probability\n",
    "    [[0.101, 0.169, 0.044, 0.082, 0.032, 0.0,    0.008, 0.0],\n",
    "    [0.135,  0.137, 0.032, 0.052, 0.075, 0.0,    0.004, 0.0],\n",
    "    [0.008,  0.006, 0.050, 0.135, 0.007, 0.0003, 0.045, 0.0],\n",
    "    [0.069,  0.003, 0.079, 0.160, 0.003, 0.0,    0.106, 0.0],\n",
    "    [0.100,  0.062, 0.051, 0.006, 0.083, 0.373,  0.020, 0.0],\n",
    "    [0.055,  0.027, 0.026, 0.002, 0.060, 0.316,  0.009, 0.0],\n",
    "    [0.016,  0.007, 0.021, 0.017, 0.057, 0.020,  0.040, 0.225],\n",
    "    [0.036,  0.001, 0.003, 0.001, 0.028, 0.008,  0.066, 0.144]])\n",
    "\n",
    "# number of connections\n",
    "K_hat = K\n",
    "\n",
    "W_exc = (1/C_m) * J # pV\n",
    "W_inh = g * W_exc #mV\n",
    "\n",
    "W_ext = W_exc                        # external input (excitatory)\n",
    "W_rec = np.tile([W_exc,W_inh],[8,4]) # recurrent synaptic connectivity matrix"
   ]
  },
  {
   "cell_type": "code",
   "execution_count": 194,
   "metadata": {},
   "outputs": [
    {
     "data": {
      "text/plain": [
       "0.3512"
      ]
     },
     "execution_count": 194,
     "metadata": {},
     "output_type": "execute_result"
    }
   ],
   "source": [
    "W_exc"
   ]
  },
  {
   "cell_type": "code",
   "execution_count": 195,
   "metadata": {},
   "outputs": [
    {
     "data": {
      "text/plain": [
       "<AxesSubplot:>"
      ]
     },
     "execution_count": 195,
     "metadata": {},
     "output_type": "execute_result"
    },
    {
     "data": {
      "image/png": "[encoded data removed]",
      "text/plain": [
       "<Figure size 432x288 with 2 Axes>"
      ]
     },
     "metadata": {
      "needs_background": "light"
     },
     "output_type": "display_data"
    }
   ],
   "source": [
    "sns.heatmap(W_rec)"
   ]
  },
  {
   "cell_type": "code",
   "execution_count": 196,
   "metadata": {},
   "outputs": [],
   "source": [
    "# import seaborn as sns\n",
    "# sns.heatmap(P)"
   ]
  },
  {
   "cell_type": "markdown",
   "metadata": {
    "pycharm": {
     "name": "#%% md\n"
    }
   },
   "source": [
    "## Task 3 - Perform numererical integration - 33 points\n",
    "We can now finally find the stationary firing rates of all interacting pools by numerically integrating $\\dot{\\nu}_i = -\\nu_i + \\Phi[ \\mu_i(t), \\sigma_i(t) ]$. You can use the forward Euler method with a timestep $\\Delta t = 0.001$ to do so. Make sure to simulate sufficiently many time steps for the system to reach equilibrium ($\\sim 5000$ should do the trick). You do not need to define the activation function $\\Phi$, it comes with the materials for this tutorial (phi.py)."
   ]
  },
  {
   "cell_type": "code",
   "execution_count": 369,
   "metadata": {},
   "outputs": [],
   "source": [
    "nr_steps = 5000\n",
    "delta_t = 0.00001"
   ]
  },
  {
   "cell_type": "code",
   "execution_count": 370,
   "metadata": {},
   "outputs": [],
   "source": [
    "V = np.zeros([K.shape[0], nr_steps])"
   ]
  },
  {
   "cell_type": "code",
   "execution_count": 371,
   "metadata": {},
   "outputs": [
    {
     "data": {
      "text/plain": [
       "(8, 5000)"
      ]
     },
     "execution_count": 371,
     "metadata": {},
     "output_type": "execute_result"
    }
   ],
   "source": [
    "V.shape"
   ]
  },
  {
   "cell_type": "code",
   "execution_count": 372,
   "metadata": {},
   "outputs": [],
   "source": [
    "#phi.phi([1,2],[3,4])"
   ]
  },
  {
   "cell_type": "code",
   "execution_count": 373,
   "metadata": {},
   "outputs": [
    {
     "data": {
      "text/plain": [
       "8"
      ]
     },
     "execution_count": 373,
     "metadata": {},
     "output_type": "execute_result"
    }
   ],
   "source": [
    "K.shape[0]"
   ]
  },
  {
   "cell_type": "code",
   "execution_count": 374,
   "metadata": {},
   "outputs": [
    {
     "data": {
      "text/plain": [
       "array([[ 1.59962423e+07,  7.84513943e+06,  7.16302734e+06,\n",
       "         3.40509626e+06,  1.14578447e+06, -0.00000000e+00,\n",
       "         8.39871199e+05, -0.00000000e+00],\n",
       "       [ 6.14581730e+06,  1.76120435e+06,  1.46034532e+06,\n",
       "         5.99473238e+05,  7.74716991e+05, -0.00000000e+00,\n",
       "         1.18212290e+05, -0.00000000e+00],\n",
       "       [ 1.27862297e+06,  2.70221441e+05,  8.65163243e+06,\n",
       "         6.11564779e+06,  2.62216637e+05,  2.45941597e+03,\n",
       "         5.10129120e+06, -0.00000000e+00],\n",
       "       [ 2.84545087e+06,  3.37283999e+04,  3.47033987e+06,\n",
       "         1.83817768e+06,  2.80395507e+04, -0.00000000e+00,\n",
       "         3.10368338e+06, -0.00000000e+00],\n",
       "       [ 3.71182645e+06,  6.36031763e+05,  1.95400291e+06,\n",
       "         5.61636004e+04,  7.15806354e+05,  8.46807681e+05,\n",
       "         4.95356064e+05, -0.00000000e+00],\n",
       "       [ 4.37629425e+05,  5.97261186e+04,  2.15936915e+05,\n",
       "         4.10270255e+03,  1.12244187e+05,  1.51288346e+05,\n",
       "         4.86765706e+04, -0.00000000e+00],\n",
       "       [ 1.68654305e+06,  2.07183479e+05,  2.35140506e+06,\n",
       "         4.74935153e+05,  1.43901259e+06,  1.08774061e+05,\n",
       "         2.97079077e+06,  3.79883370e+06],\n",
       "       [ 7.85118432e+05,  6.04318148e+03,  6.81705769e+04,\n",
       "         5.67545273e+03,  1.42604757e+05,  8.85654857e+03,\n",
       "         1.01760631e+06,  4.74567144e+05]])"
      ]
     },
     "execution_count": 374,
     "metadata": {},
     "output_type": "execute_result"
    }
   ],
   "source": [
    "K*W_exc"
   ]
  },
  {
   "cell_type": "code",
   "execution_count": 375,
   "metadata": {},
   "outputs": [],
   "source": [
    "# def mu(t, i):\n",
    "#     mu = 0\n",
    "#     for j in range(K.shape[0]):\n",
    "#         mu += K[\n",
    "from numpy.linalg import matrix_power\n",
    "from phi import phi"
   ]
  },
  {
   "cell_type": "code",
   "execution_count": 376,
   "metadata": {},
   "outputs": [],
   "source": [
    "V[4, 1:100] = 10"
   ]
  },
  {
   "cell_type": "code",
   "execution_count": 377,
   "metadata": {},
   "outputs": [
    {
     "data": {
      "text/plain": [
       "array([[0., 0., 0., ..., 0., 0., 0.],\n",
       "       [0., 0., 0., ..., 0., 0., 0.],\n",
       "       [0., 0., 0., ..., 0., 0., 0.],\n",
       "       ...,\n",
       "       [0., 0., 0., ..., 0., 0., 0.],\n",
       "       [0., 0., 0., ..., 0., 0., 0.],\n",
       "       [0., 0., 0., ..., 0., 0., 0.]])"
      ]
     },
     "execution_count": 377,
     "metadata": {},
     "output_type": "execute_result"
    }
   ],
   "source": [
    "V"
   ]
  },
  {
   "cell_type": "code",
   "execution_count": 378,
   "metadata": {},
   "outputs": [
    {
     "data": {
      "text/plain": [
       "<AxesSubplot:>"
      ]
     },
     "execution_count": 378,
     "metadata": {},
     "output_type": "execute_result"
    },
    {
     "data": {
      "image/png": "[encoded data removed]",
      "text/plain": [
       "<Figure size 432x288 with 2 Axes>"
      ]
     },
     "metadata": {
      "needs_background": "light"
     },
     "output_type": "display_data"
    }
   ],
   "source": [
    "sns.heatmap(V)"
   ]
  },
  {
   "cell_type": "code",
   "execution_count": 379,
   "metadata": {},
   "outputs": [],
   "source": [
    "V = np.zeros([K.shape[0], nr_steps])\n",
    "V[4, 0] = 10"
   ]
  },
  {
   "cell_type": "code",
   "execution_count": 380,
   "metadata": {},
   "outputs": [
    {
     "data": {
      "text/plain": [
       "<AxesSubplot:>"
      ]
     },
     "execution_count": 380,
     "metadata": {},
     "output_type": "execute_result"
    },
    {
     "data": {
      "image/png": "[encoded data removed]",
      "text/plain": [
       "<Figure size 432x288 with 2 Axes>"
      ]
     },
     "metadata": {
      "needs_background": "light"
     },
     "output_type": "display_data"
    }
   ],
   "source": [
    "sns.heatmap(K*W_rec)"
   ]
  },
  {
   "cell_type": "code",
   "execution_count": 381,
   "metadata": {},
   "outputs": [
    {
     "data": {
      "text/plain": [
       "-31380557.738546945"
      ]
     },
     "execution_count": 381,
     "metadata": {},
     "output_type": "execute_result"
    }
   ],
   "source": [
    "np.min(K*W_rec)"
   ]
  },
  {
   "cell_type": "code",
   "execution_count": 382,
   "metadata": {},
   "outputs": [
    {
     "data": {
      "text/plain": [
       "<AxesSubplot:>"
      ]
     },
     "execution_count": 382,
     "metadata": {},
     "output_type": "execute_result"
    },
    {
     "data": {
      "image/png": "[encoded data removed]",
      "text/plain": [
       "<Figure size 432x288 with 2 Axes>"
      ]
     },
     "metadata": {
      "needs_background": "light"
     },
     "output_type": "display_data"
    }
   ],
   "source": [
    "sns.heatmap(K*matrix_power(W_rec, 2))"
   ]
  },
  {
   "cell_type": "code",
   "execution_count": 383,
   "metadata": {},
   "outputs": [
    {
     "data": {
      "text/plain": [
       "False"
      ]
     },
     "execution_count": 383,
     "metadata": {},
     "output_type": "execute_result"
    }
   ],
   "source": [
    "arr = np.matmul(K*matrix_power(W_rec, 2), V[:, 0])\n",
    "np.isnan(arr).any()"
   ]
  },
  {
   "cell_type": "code",
   "execution_count": 397,
   "metadata": {
    "pycharm": {
     "name": "#%%\n"
    }
   },
   "outputs": [
    {
     "name": "stdout",
     "output_type": "stream",
     "text": [
      "[114623.40103525  77513.84311691  26280.66525944   2857.33746753\n",
      "  71636.82735139  11277.80105963 143982.73768339  14319.47734912]\n",
      "[40255.73844358 27222.86170266  9229.76963911  1003.4969186\n",
      " 25158.85376581  3960.76373214 50566.73747441  5029.00044501]\n",
      "[ 0. nan nan nan nan nan nan nan]\n"
     ]
    }
   ],
   "source": [
    "### Write your code here\n",
    "\n",
    "#nr_steps = 3\n",
    "nr_steps = 2\n",
    "for t in range(1, nr_steps):\n",
    "    #mu = tau_m * np.matmul(K*W_rec, V[:, t-1]) + np.matmul(K_ext*W_ext*nu_ext)\n",
    "    mu = tau_m * (np.matmul(K*W_rec, V[:, t-1]) + K_ext*W_ext*nu_ext)\n",
    "    sigma_squared = tau_m * (np.matmul(K * np.square(W_rec), V[:, t-1]) + K_ext*W_ext*W_ext*nu_ext)\n",
    "    #print(sigma_squared)\n",
    "    #sigma = np.sqrt(sigma_squared)\n",
    "    \n",
    "    print(mu)\n",
    "    print(sigma_squared)\n",
    "    phi_val = phi(mu, sigma)\n",
    "    print(phi_val)\n",
    "    dV = -V[:, t-1] + phi(mu, sigma)\n",
    "    V[:, t] = V[:, t-1] + delta_t * dV"
   ]
  },
  {
   "cell_type": "code",
   "execution_count": 396,
   "metadata": {},
   "outputs": [
    {
     "data": {
      "text/plain": [
       "array([0.00000000e+00, 2.38091079e-90, 1.01465064e-20, 2.84413496e-08,\n",
       "       4.99433375e-04, 4.35209159e-02, 5.06865608e-01, 2.38947690e+00])"
      ]
     },
     "execution_count": 396,
     "metadata": {},
     "output_type": "execute_result"
    }
   ],
   "source": [
    "phi(np.arange(8), np.arange(8))"
   ]
  },
  {
   "cell_type": "code",
   "execution_count": 385,
   "metadata": {},
   "outputs": [
    {
     "ename": "SyntaxError",
     "evalue": "unexpected EOF while parsing (907045649.py, line 1)",
     "output_type": "error",
     "traceback": [
      "\u001b[0;36m  Input \u001b[0;32mIn [385]\u001b[0;36m\u001b[0m\n\u001b[0;31m    phi(\u001b[0m\n\u001b[0m        ^\u001b[0m\n\u001b[0;31mSyntaxError\u001b[0m\u001b[0;31m:\u001b[0m unexpected EOF while parsing\n"
     ]
    }
   ],
   "source": [
    "phi("
   ]
  },
  {
   "cell_type": "code",
   "execution_count": null,
   "metadata": {},
   "outputs": [],
   "source": [
    "#sns.heatmap(np.log(V+0.000001))\n",
    "sns.heatmap(V)"
   ]
  },
  {
   "cell_type": "code",
   "execution_count": null,
   "metadata": {},
   "outputs": [],
   "source": [
    "V "
   ]
  },
  {
   "cell_type": "code",
   "execution_count": null,
   "metadata": {},
   "outputs": [],
   "source": [
    "K_ext*W_ext*nu_ext"
   ]
  },
  {
   "cell_type": "code",
   "execution_count": null,
   "metadata": {},
   "outputs": [],
   "source": [
    "K_ext"
   ]
  },
  {
   "cell_type": "code",
   "execution_count": null,
   "metadata": {},
   "outputs": [],
   "source": [
    "W_ext"
   ]
  },
  {
   "cell_type": "markdown",
   "metadata": {
    "pycharm": {
     "name": "#%% md\n"
    }
   },
   "source": [
    "## Evaluate results\n",
    "As a last step, we need to check if the mean firing rates we obtained using the mean field approximation look anything like the results Potjans & Diesmann (2014) obtained when simulating their full model. Assuming that you called the firing rate variable keeping track of the firing rates $\\nu$ and that pools are along its rows and time along its columns, the following code plots bar graphs showing the firing rate in all pools."
   ]
  },
  {
   "cell_type": "code",
   "execution_count": null,
   "metadata": {},
   "outputs": [],
   "source": [
    "V[:,-1]"
   ]
  },
  {
   "cell_type": "code",
   "execution_count": null,
   "metadata": {
    "pycharm": {
     "is_executing": true,
     "name": "#%%\n"
    }
   },
   "outputs": [],
   "source": [
    "plt.figure()\n",
    "plt.barh(y=np.arange(8), width=V[:,-1],)\n",
    "plt.yticks([0.5, 2.5, 4.5, 6.5], labels=['L23', 'L4', 'L5', 'L6'])\n",
    "plt.show()"
   ]
  },
  {
   "cell_type": "markdown",
   "metadata": {
    "pycharm": {
     "name": "#%% md\n"
    }
   },
   "source": [
    "Compare this to the mean firing rates observed by Potjans & Diesmann (2014)\n",
    "\n",
    "<img src=\"Rates.png\">"
   ]
  },
  {
   "cell_type": "markdown",
   "metadata": {
    "pycharm": {
     "name": "#%% md\n"
    }
   },
   "source": [
    "## References\n",
    "* Potjans TC, Diesmann M. The cell-type specific cortical microcircuit: relating structure and activity in a full-scale spiking network model. Cereb Cortex. 2014 Mar;24(3):785-806. doi: 10.1093/cercor/bhs358. Epub 2012 Dec 2. PMID: 23203991; PMCID: PMC3920768\n",
    "* Schuecker, J., Schmidt, M., van Albada, S. J., Diesmann, M., & Helias, M. (2017). Fundamental Activity Constraints Lead to Specific Interpretations of the Connectome. PLOS Computational Biology, 13(2), e1005179. https://doi.org/10.1371/journal.pcbi.1005179"
   ]
  },
  {
   "cell_type": "code",
   "execution_count": null,
   "metadata": {},
   "outputs": [],
   "source": []
  }
 ],
 "metadata": {
  "kernelspec": {
   "display_name": "Python 3 (ipykernel)",
   "language": "python",
   "name": "python3"
  },
  "language_info": {
   "codemirror_mode": {
    "name": "ipython",
    "version": 3
   },
   "file_extension": ".py",
   "mimetype": "text/x-python",
   "name": "python",
   "nbconvert_exporter": "python",
   "pygments_lexer": "ipython3",
   "version": "3.9.12"
  }
 },
 "nbformat": 4,
 "nbformat_minor": 4
}
